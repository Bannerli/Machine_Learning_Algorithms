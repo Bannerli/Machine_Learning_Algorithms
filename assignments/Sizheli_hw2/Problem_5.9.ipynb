{
 "cells": [
  {
   "cell_type": "markdown",
   "metadata": {},
   "source": [
    "# Problem 5.9"
   ]
  },
  {
   "cell_type": "code",
   "execution_count": 86,
   "metadata": {},
   "outputs": [],
   "source": [
    "# import autograd functionally\n",
    "import autograd.numpy as np\n",
    "from autograd.misc.flatten import flatten_func\n",
    "from autograd import grad as compute_grad\n",
    "\n",
    "# import various other libraries\n",
    "import copy\n",
    "import matplotlib.pyplot as plt\n",
    "\n",
    "# this is needed to compensate for %matplotl+ib notebook's tendancy lotted inline\n",
    "from matplotlib import rcParams\n",
    "rcParams[\"figure.autolayout\"] = True"
   ]
  },
  {
   "cell_type": "code",
   "execution_count": 87,
   "metadata": {},
   "outputs": [],
   "source": [
    "# gradient descent function\n",
    "def gradient_descent(g, w ,alpha, max_its, beta):\n",
    "    # flatten the input function, create gradient based on flat function\n",
    "    g_flat, unflatten, w = flatten_func(g, w)\n",
    "    grad = compute_grad(g_flat)\n",
    "\n",
    "    # record history\n",
    "    w_hist = []\n",
    "    # push the first w\n",
    "    w_hist.append(unflatten(w))\n",
    "\n",
    "    # start gradient descent loop\n",
    "    z = np.zeros(np.shape(w))  # momentum term\n",
    "\n",
    "    # over the line\n",
    "    for k in range(max_its):\n",
    "        # plug in value into func and derivative\n",
    "        grad_eval = grad(w)\n",
    "        grad_eval.shape = np.shape(w)\n",
    "\n",
    "        # take descent step with momentum\n",
    "        z = beta * z + grad_eval\n",
    "        w = w -alpha * z\n",
    "\n",
    "        # record weight update\n",
    "        w_hist.append(unflatten(w))\n",
    "\n",
    "    return w_hist\n",
    "\n",
    "# normalize the input data\n",
    "def normalize(data, data_mean, data_std):\n",
    "    normalized = (data - data_mean)/data_std\n",
    "    return normalized\n",
    "# our predict function\n",
    "def predict_normalized(x ,w):\n",
    "    # feature transformations\n",
    "    f = w[0] + np.dot(x, w[1:])\n",
    "    return f\n",
    "\n",
    "def plotting(cost_hist, ylabelName, label):\n",
    "    figure, axes = plt.subplots(1,1, figsize = (6,5))\n",
    "    axes.plot(range(len(cost_hist)),cost_hist, label = label, linestyle = \"solid\")\n",
    "    axes.set_xlabel(\"iterations\")\n",
    "    axes.set_ylabel(ylabelName)\n",
    "    axes.legend()\n",
    "    plt.show()"
   ]
  },
  {
   "cell_type": "code",
   "execution_count": 88,
   "metadata": {},
   "outputs": [],
   "source": [
    "csvname = \"boston_housing.csv\"\n",
    "data = np.loadtxt(csvname, delimiter = ',')\n",
    "data = data.T\n",
    "x = data[:,:-1]\n",
    "y = data[:,-1:]\n",
    "\n",
    "# we do the normalization of these data matrix\n",
    "x_means = np.mean(x, axis = 0)\n",
    "x_stds = np.std(x, axis = 0)\n",
    "# normalize the input data\n",
    "x_normed = normalize(x, x_means, x_stds)"
   ]
  },
  {
   "cell_type": "code",
   "execution_count": 89,
   "metadata": {},
   "outputs": [],
   "source": [
    "# define least square cost function\n",
    "least_squares_normalized = lambda w: np.sum((predict_normalized(x_normed, w) - y)**2)\n",
    "RMSE = lambda w: np.mean((predict_normalized(x_normed, w) - y)**2)**0.5\n",
    "MAD = lambda w: np.mean(np.abs(predict_normalized(x_normed, w) - y))"
   ]
  },
  {
   "cell_type": "code",
   "execution_count": 90,
   "metadata": {},
   "outputs": [],
   "source": [
    "# initialize parameters\n",
    "alpha = 10**-4\n",
    "max_its = 100\n",
    "beta = 0\n",
    "w_init = np.random.randn(x.shape[1]+1, 1)"
   ]
  },
  {
   "cell_type": "code",
   "execution_count": 91,
   "metadata": {},
   "outputs": [],
   "source": [
    "# run gradient descent, create cost function history\n",
    "weight_history = gradient_descent(least_squares_normalized, w_init, alpha, max_its,beta)\n",
    "# use MSE to validate the regression quality\n",
    "cost_history = [RMSE(v) for v in weight_history]"
   ]
  },
  {
   "cell_type": "code",
   "execution_count": 92,
   "metadata": {},
   "outputs": [
    {
     "data": {
      "image/png": "[encoded data removed]",
      "text/plain": [
       "<Figure size 432x360 with 1 Axes>"
      ]
     },
     "metadata": {
      "needs_background": "light"
     },
     "output_type": "display_data"
    }
   ],
   "source": [
    "plotting(cost_history,\"RMSE\",\"Boston_Housing\")"
   ]
  },
  {
   "cell_type": "markdown",
   "metadata": {},
   "source": [
    "Below is the RMSE of Boston_Housing"
   ]
  },
  {
   "cell_type": "code",
   "execution_count": 93,
   "metadata": {},
   "outputs": [
    {
     "name": "stdout",
     "output_type": "stream",
     "text": [
      "4.708927667650144\n"
     ]
    }
   ],
   "source": [
    "print(cost_history[-1])"
   ]
  },
  {
   "cell_type": "code",
   "execution_count": 94,
   "metadata": {},
   "outputs": [],
   "source": [
    "# run gradient descent, create cost function history\n",
    "weight_history = gradient_descent(least_squares_normalized, w_init, alpha, max_its ,beta)\n",
    "# use MSE to validate the regression quality\n",
    "cost_history = [MAD(v) for v in weight_history]"
   ]
  },
  {
   "cell_type": "code",
   "execution_count": 95,
   "metadata": {},
   "outputs": [
    {
     "data": {
      "image/png": "[encoded data removed]",
      "text/plain": [
       "<Figure size 432x360 with 1 Axes>"
      ]
     },
     "metadata": {
      "needs_background": "light"
     },
     "output_type": "display_data"
    }
   ],
   "source": [
    "plotting(cost_history,\"MAD\",\"Boston_Housing\")"
   ]
  },
  {
   "cell_type": "markdown",
   "metadata": {},
   "source": [
    "Below is the MAD of Boston_Housing"
   ]
  },
  {
   "cell_type": "code",
   "execution_count": 96,
   "metadata": {},
   "outputs": [
    {
     "name": "stdout",
     "output_type": "stream",
     "text": [
      "3.250402170843036\n"
     ]
    }
   ],
   "source": [
    "print(cost_history[-1])"
   ]
  },
  {
   "cell_type": "code",
   "execution_count": 97,
   "metadata": {},
   "outputs": [],
   "source": [
    "csvname = \"auto_data.csv\"\n",
    "data = np.loadtxt(csvname, delimiter = ',')\n",
    "data = data.T\n",
    "x = data[:,:-1]\n",
    "y = data[:,-1:]\n",
    "\n",
    "# we do the normalization of these data matrix\n",
    "x_means = np.mean(x, axis = 0)\n",
    "x_stds = np.std(x, axis = 0)\n",
    "# normalize the input data\n",
    "x_normed = normalize(x, x_means, x_stds)"
   ]
  },
  {
   "cell_type": "code",
   "execution_count": 98,
   "metadata": {},
   "outputs": [],
   "source": [
    "# initialize parameters\n",
    "alpha = 10**-4\n",
    "max_its = 100\n",
    "beta = 0\n",
    "w_init = np.random.randn(x.shape[1]+1, 1)"
   ]
  },
  {
   "cell_type": "code",
   "execution_count": 99,
   "metadata": {},
   "outputs": [],
   "source": [
    "# run gradient descent, create cost function history\n",
    "weight_history = gradient_descent(least_squares_normalized, w_init, alpha, max_its,beta)\n",
    "cost_history = [RMSE(v) for v in weight_history]"
   ]
  },
  {
   "cell_type": "code",
   "execution_count": 100,
   "metadata": {},
   "outputs": [
    {
     "data": {
      "image/png": "[encoded data removed]",
      "text/plain": [
       "<Figure size 432x360 with 1 Axes>"
      ]
     },
     "metadata": {
      "needs_background": "light"
     },
     "output_type": "display_data"
    }
   ],
   "source": [
    "plotting(cost_history, \"RMSE\",\"auto\")"
   ]
  },
  {
   "cell_type": "markdown",
   "metadata": {},
   "source": [
    "Below is the RMSE of Auto"
   ]
  },
  {
   "cell_type": "code",
   "execution_count": 101,
   "metadata": {},
   "outputs": [
    {
     "name": "stdout",
     "output_type": "stream",
     "text": [
      "3.3876054756113096\n"
     ]
    }
   ],
   "source": [
    "print(cost_history[-1])"
   ]
  },
  {
   "cell_type": "code",
   "execution_count": 102,
   "metadata": {},
   "outputs": [],
   "source": [
    "# run gradient descent, create cost function history\n",
    "weight_history = gradient_descent(least_squares_normalized, w_init, alpha, max_its ,beta)\n",
    "# use MSE to validate the regression quality\n",
    "cost_history = [MAD(v) for v in weight_history]"
   ]
  },
  {
   "cell_type": "code",
   "execution_count": 103,
   "metadata": {},
   "outputs": [
    {
     "data": {
      "image/png": "[encoded data removed]",
      "text/plain": [
       "<Figure size 432x360 with 1 Axes>"
      ]
     },
     "metadata": {
      "needs_background": "light"
     },
     "output_type": "display_data"
    }
   ],
   "source": [
    "plotting(cost_history,\"MAD\",\"Auto\")"
   ]
  },
  {
   "cell_type": "markdown",
   "metadata": {},
   "source": [
    "Below is the MAD of Auto"
   ]
  },
  {
   "cell_type": "code",
   "execution_count": 104,
   "metadata": {},
   "outputs": [
    {
     "name": "stdout",
     "output_type": "stream",
     "text": [
      "2.5225395243614055\n"
     ]
    }
   ],
   "source": [
    "print(cost_history[-1])"
   ]
  },
  {
   "cell_type": "markdown",
   "metadata": {},
   "source": [
    "Now we make a conclusion,\n",
    "In the boston housing, RMSE is 4.70, MAD is 3.75, which is the 1/1000 of the 4500 and 3000 in as the round value in the question, because we do the normalize firstly.\n",
    "In the Auto data, RMSE is 3.39, MAD is 2.52, compared with the provided 3.3 and 2.5. They are approximating them."
   ]
  },
  {
   "cell_type": "markdown",
   "metadata": {},
   "source": [
    "# Problem 5.2 attachment"
   ]
  },
  {
   "cell_type": "code",
   "execution_count": 105,
   "metadata": {},
   "outputs": [],
   "source": [
    "csvname = \"kleibers_law_data.csv\"\n",
    "data = np.loadtxt(csvname, delimiter = ',')\n",
    "data = data.T\n",
    "x = data[:,:-1]\n",
    "y = data[:,-1:]\n",
    "x = np.log(x)\n",
    "y = np.log(y)"
   ]
  },
  {
   "cell_type": "code",
   "execution_count": 106,
   "metadata": {},
   "outputs": [],
   "source": [
    "# define least square cost function\n",
    "least_squares_normalized = lambda w: np.sum((predict_normalized(x, w) - y)**2)\n",
    "MSE = lambda w: np.mean((predict_normalized(x, w) - y)**2)"
   ]
  },
  {
   "cell_type": "code",
   "execution_count": 107,
   "metadata": {},
   "outputs": [],
   "source": [
    "# initialize parameters\n",
    "alpha = 10**-5\n",
    "max_its = 500\n",
    "beta = 0\n",
    "w_init = np.random.randn(x.shape[1]+1, 1)"
   ]
  },
  {
   "cell_type": "code",
   "execution_count": 108,
   "metadata": {},
   "outputs": [],
   "source": [
    "# run gradient descent, create cost function history\n",
    "weight_history = gradient_descent(least_squares_normalized, w_init, alpha, max_its,beta)\n",
    "cost_history = [MSE(v) for v in weight_history]"
   ]
  },
  {
   "cell_type": "code",
   "execution_count": 109,
   "metadata": {},
   "outputs": [
    {
     "data": {
      "image/png": "[encoded data removed]",
      "text/plain": [
       "<Figure size 432x360 with 1 Axes>"
      ]
     },
     "metadata": {
      "needs_background": "light"
     },
     "output_type": "display_data"
    }
   ],
   "source": [
    "plotting(cost_history,\"cost_function\",\"metabolic\")"
   ]
  },
  {
   "cell_type": "code",
   "execution_count": 110,
   "metadata": {},
   "outputs": [
    {
     "name": "stdout",
     "output_type": "stream",
     "text": [
      "[[6.81445075]\n",
      " [0.65275719]]\n"
     ]
    }
   ],
   "source": [
    "print(weight_history[-1])"
   ]
  },
  {
   "cell_type": "code",
   "execution_count": 111,
   "metadata": {},
   "outputs": [
    {
     "data": {
      "image/png": "[encoded data removed]",
      "text/plain": [
       "<Figure size 432x288 with 1 Axes>"
      ]
     },
     "metadata": {
      "needs_background": "light"
     },
     "output_type": "display_data"
    }
   ],
   "source": [
    "plt.scatter(x,y)\n",
    "xspace = np.linspace(-6,8,1000)\n",
    "plt.plot(xspace, weight_history[-1][0]+weight_history[-1][1]*xspace, \"r\")\n",
    "plt.savefig(\"kleibors_law\")\n",
    "plt.show()"
   ]
  },
  {
   "cell_type": "code",
   "execution_count": 112,
   "metadata": {},
   "outputs": [
    {
     "data": {
      "text/plain": [
       "969101.2192923063"
      ]
     },
     "execution_count": 112,
     "metadata": {},
     "output_type": "execute_result"
    }
   ],
   "source": [
    "# now we find the calories\n",
    "10**0.65*np.exp(6.81)*1000/4.18"
   ]
  },
  {
   "cell_type": "code",
   "execution_count": null,
   "metadata": {},
   "outputs": [],
   "source": []
  }
 ],
 "metadata": {
  "kernelspec": {
   "display_name": "Python 3",
   "language": "python",
   "name": "python3"
  },
  "language_info": {
   "codemirror_mode": {
    "name": "ipython",
    "version": 3
   },
   "file_extension": ".py",
   "mimetype": "text/x-python",
   "name": "python",
   "nbconvert_exporter": "python",
   "pygments_lexer": "ipython3",
   "version": "3.7.4"
  }
 },
 "nbformat": 4,
 "nbformat_minor": 2
}
