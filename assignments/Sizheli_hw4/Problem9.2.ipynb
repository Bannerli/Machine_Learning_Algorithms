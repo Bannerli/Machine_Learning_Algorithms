{
 "cells": [
  {
   "cell_type": "code",
   "execution_count": 1,
   "metadata": {},
   "outputs": [],
   "source": [
    "# import autograd functionally\n",
    "import autograd.numpy as np\n",
    "from autograd.misc.flatten import flatten_func\n",
    "from autograd import grad as compute_grad\n",
    "\n",
    "# import various other libraries\n",
    "import matplotlib.pyplot as plt\n",
    "from copy import deepcopy\n",
    "# this is needed to compensate for %matplotl+ib notebook's tendancy lotted inline\n",
    "from matplotlib import rcParams\n",
    "rcParams[\"figure.autolayout\"] = True\n",
    "from sklearn.datasets import fetch_openml\n",
    "from PIL import Image\n",
    "import os"
   ]
  },
  {
   "cell_type": "code",
   "execution_count": 2,
   "metadata": {},
   "outputs": [],
   "source": [
    "# gradient descent function\n",
    "def gradient_descent(g, w ,alpha, max_its, beta):\n",
    "    # flatten the input function, create gradient based on flat function\n",
    "    g_flat, unflatten, w = flatten_func(g, w)\n",
    "    grad = compute_grad(g_flat)\n",
    "\n",
    "    # record history\n",
    "    w_hist = []\n",
    "    # push the first w\n",
    "    w_hist.append(unflatten(w))\n",
    "\n",
    "    # start gradient descent loop\n",
    "    z = np.zeros(np.shape(w))  # momentum term\n",
    "\n",
    "    # over the line\n",
    "    for k in range(max_its):\n",
    "        # plug in value into func and derivative\n",
    "        grad_eval = grad(w)\n",
    "        grad_eval.shape = np.shape(w)\n",
    "\n",
    "        # take descent step with momentum\n",
    "        z = beta * z + grad_eval\n",
    "        w = w -alpha * z\n",
    "\n",
    "        # record weight update\n",
    "        w_hist.append(unflatten(w))\n",
    "\n",
    "    return w_hist\n",
    "\n",
    "def plotting(cost_hist, ylabelName, label):\n",
    "    figure, axes = plt.subplots(1,1, figsize = (6,5))\n",
    "    axes.plot(range(len(cost_hist)),cost_hist, label = label, linestyle = \"solid\")\n",
    "    axes.set_xlabel(\"iterations\")\n",
    "    axes.set_ylabel(ylabelName)\n",
    "    axes.legend()\n",
    "    plt.show()"
   ]
  },
  {
   "cell_type": "code",
   "execution_count": 3,
   "metadata": {},
   "outputs": [
    {
     "name": "stdout",
     "output_type": "stream",
     "text": [
      "(70000, 784)\n",
      "(70000, 1)\n"
     ]
    }
   ],
   "source": [
    "x, y = fetch_openml(\"mnist_784\", version = 1, return_X_y = True)\n",
    "y = np.array([int(v) for v in y])[np.newaxis,:].T\n",
    "x_copy = deepcopy(x)\n",
    "y_copy = deepcopy(y)\n",
    "print(x.shape)\n",
    "print(y.shape)"
   ]
  },
  {
   "cell_type": "code",
   "execution_count": 4,
   "metadata": {},
   "outputs": [],
   "source": [
    "def conv(image, weight):\n",
    "    height, width = image.shape\n",
    "    h, w = weight.shape\n",
    "    # the new size of after the conv scanning operation\n",
    "    new_h = height - h + 1\n",
    "    new_w = width - w + 1\n",
    "    new_image = np.zeros((new_h, new_w), dtype = np.float)\n",
    "    # do the conv operation\n",
    "    for i in range(new_h):\n",
    "        for j in range(new_w):\n",
    "            new_image[i,j] = np.sum(image[i:i+h, j:j+w] * weight)\n",
    "    # remove values smaller than 0 or larger than 255\n",
    "    new_image = new_image.clip(0, 255)\n",
    "    new_image = np.rint(new_image).astype(\"uint8\")\n",
    "    return new_image\n",
    "\n",
    "def image_loop(images, weight):\n",
    "    data = []\n",
    "    for image in images:\n",
    "        pic = image.reshape(int(np.size(image)**0.5),int(np.size(image)**0.5))\n",
    "        pic_processed = conv(pic,weight)\n",
    "        data_processed = pic_processed.flatten()\n",
    "        data.append(data_processed)\n",
    "    data = np.array(data)\n",
    "    return data\n",
    "\n",
    "# we use the laplacian as the weight of the edge detection\n",
    "laplacian = np.array([[-1, -1, -1], [-1, 8, -1], [-1, -1, -1]])\n",
    "# use prewitt as the weight\n",
    "prewitt_v = np.array([[-1,0,1],[-1,0,1],[-1,0,1]]) \n",
    "prewitt_h = np.array([[1,1,1],[0,0,0],[-1,-1,-1]])"
   ]
  },
  {
   "cell_type": "code",
   "execution_count": 6,
   "metadata": {},
   "outputs": [],
   "source": [
    "# now we should normalize the weights before\n",
    "def normalization(w):\n",
    "    slice = w[1:]\n",
    "    norm = np.sum(np.power(slice,2),axis = 0)**0.5\n",
    "    result = w/norm\n",
    "    return result\n",
    "\n",
    "def model(x,w):\n",
    "    w = normalization(w)\n",
    "    result = w[0] + np.dot(x, w[1:])\n",
    "    return result\n",
    "\n",
    "    \n",
    "def multi_class_softmax(w):\n",
    "    all_evals = model(x,w)\n",
    "    # compute the exp result\n",
    "    init_result = np.exp(all_evals)\n",
    "    total = np.sum(init_result, axis = 1)\n",
    "    # select the corresponding column\n",
    "    b = init_result[np.arange(np.size(y)),y.astype(int).flatten()]\n",
    "    cost = -1*np.sum(np.log(b/total))\n",
    "    cost = cost + 10**-5*np.linalg.norm(w[1:],'fro')**2\n",
    "    return cost/float(np.size(y))\n",
    "\n",
    "def batch_multi_class_softmax(w):\n",
    "    all_evals = model(x_batch,w)\n",
    "    # compute the exp result\n",
    "    init_result = np.exp(all_evals)\n",
    "    total = np.sum(init_result, axis = 1)\n",
    "    # select the corresponding column\n",
    "    b = init_result[np.arange(np.size(y_batch)),y_batch.astype(int).flatten()]\n",
    "    cost = -1*np.sum(np.log(b/total))\n",
    "    cost = cost + 10**-5*np.linalg.norm(w[1:],'fro')**2\n",
    "    return cost/float(np.size(y_batch))\n",
    "\n",
    "def predict(weight):\n",
    "    index = np.argmax(model(x, weight), axis = 1)\n",
    "    correct_num = np.sum(np.array(index == y_true, dtype = int))\n",
    "    wrong_num = np.size(y_true) - correct_num\n",
    "    accuracy = correct_num/np.size(y_true)\n",
    "    return wrong_num\n",
    "\n",
    "\n",
    "\n",
    "def plotting_mis(weight_history,y_label):\n",
    "    figure, axes = plt.subplots(1,1, figsize = (6,5))\n",
    "    x = list(range(len(weight_history)))\n",
    "    y = [predict(w) for w in weight_history]\n",
    "    axes.plot(x,y, label = y_label, linestyle = \"solid\")\n",
    "    axes.set_ylabel(\"misclassification_number\")\n",
    "    axes.set_xlabel(\"iterations\")\n",
    "    axes.legend()\n",
    "    plt.show()"
   ]
  },
  {
   "cell_type": "code",
   "execution_count": 11,
   "metadata": {},
   "outputs": [],
   "source": [
    "def mini_Batch(iterations):\n",
    "    w_batch = np.random.randn(x.shape[1]+1, np.max(y).astype(int)+1)\n",
    "    alpha = 0.02\n",
    "    iterations_step = 20\n",
    "    batch_size = 200\n",
    "    batch_num = int(x.shape[0]/batch_size)\n",
    "    w_hist = [w_batch]\n",
    "    global x_batch\n",
    "    global y_batch\n",
    "    \"\"\"\n",
    "    def batch_multi_class_softmax(w):\n",
    "        all_evals = model(x_batch,w)\n",
    "        # compute the exp result\n",
    "        init_result = np.exp(all_evals)\n",
    "        total = np.sum(init_result, axis = 1)\n",
    "        # select the corresponding column\n",
    "        b = init_result[np.arange(np.size(y_batch)),y_batch.astype(int).flatten()]\n",
    "        cost = -1*np.sum(np.log(b/total))\n",
    "        cost = cost + 10**-5*np.linalg.norm(w[1:],'fro')**2\n",
    "        return cost/float(np.size(y_batch))\n",
    "        \"\"\"\n",
    "    for i in range(iterations):\n",
    "        for batch_index in range(batch_num):\n",
    "            x_batch = x[batch_index*batch_size:(batch_index+1)*batch_size]\n",
    "            y_batch = y[batch_index*batch_size:(batch_index+1)*batch_size]\n",
    "            w_batch_hist = gradient_descent(batch_multi_class_softmax, w_batch ,alpha, iterations_step, beta = 0)\n",
    "            w_batch = w_batch_hist[-1]\n",
    "        w_hist.append(w_batch) \n",
    "        \n",
    "    return w_hist"
   ]
  },
  {
   "cell_type": "code",
   "execution_count": 13,
   "metadata": {},
   "outputs": [],
   "source": [
    "x = x[:1000]\n",
    "y = y[:1000]\n",
    "w_history = mini_Batch(20)\n",
    "cost_history = [multi_class_softmax(w) for w in w_history]"
   ]
  },
  {
   "cell_type": "code",
   "execution_count": 14,
   "metadata": {},
   "outputs": [
    {
     "data": {
      "image/png": "[encoded data removed]",
      "text/plain": [
       "<Figure size 432x360 with 1 Axes>"
      ]
     },
     "metadata": {
      "needs_background": "light"
     },
     "output_type": "display_data"
    },
    {
     "data": {
      "image/png": "[encoded data removed]",
      "text/plain": [
       "<Figure size 432x360 with 1 Axes>"
      ]
     },
     "metadata": {
      "needs_background": "light"
     },
     "output_type": "display_data"
    }
   ],
   "source": [
    "y_true = y.flatten()\n",
    "plotting(cost_history, \"cost_function\", \"pixels\")\n",
    "plotting_mis(w_history, \"pixels\")"
   ]
  },
  {
   "cell_type": "code",
   "execution_count": 9,
   "metadata": {},
   "outputs": [],
   "source": [
    "# the weight is set prewitt_v and prewitt_h, and combine them together\n",
    "x_v = image_loop(x, prewitt_v)\n",
    "x_h = image_loop(x, prewitt_h)\n",
    "new_image = np.rint(x_v*0.5 + x_h*0.5).astype(\"uint8\")\n",
    "x = new_image"
   ]
  },
  {
   "cell_type": "code",
   "execution_count": 10,
   "metadata": {},
   "outputs": [],
   "source": [
    "w_history = mini_Batch(20)\n",
    "cost_history = [multi_class_softmax(w) for w in w_history]"
   ]
  },
  {
   "cell_type": "code",
   "execution_count": 11,
   "metadata": {},
   "outputs": [
    {
     "data": {
      "image/png": "[encoded data removed]",
      "text/plain": [
       "<Figure size 432x360 with 1 Axes>"
      ]
     },
     "metadata": {
      "needs_background": "light"
     },
     "output_type": "display_data"
    },
    {
     "data": {
      "image/png": "[encoded data removed]",
      "text/plain": [
       "<Figure size 432x360 with 1 Axes>"
      ]
     },
     "metadata": {
      "needs_background": "light"
     },
     "output_type": "display_data"
    }
   ],
   "source": [
    "plotting(cost_history, \"mini_batch\", \"edge_detect\")\n",
    "plotting_mis(w_history, \"edge_detection(prewitt)\")"
   ]
  },
  {
   "cell_type": "code",
   "execution_count": 15,
   "metadata": {},
   "outputs": [],
   "source": [
    "x_v = image_loop(x_copy[50000:], prewitt_v)\n",
    "x_h = image_loop(x_copy[50000:], prewitt_h)\n",
    "new_image = np.rint(x_v*0.5 + x_h*0.5).astype(\"uint8\")\n",
    "x = new_image\n",
    "y = y_copy[50000:]\n",
    "y_true = y.flatten()"
   ]
  },
  {
   "cell_type": "code",
   "execution_count": 16,
   "metadata": {},
   "outputs": [],
   "source": [
    "w_history = mini_Batch(20)\n",
    "cost_history = [multi_class_softmax(w) for w in w_history]"
   ]
  },
  {
   "cell_type": "code",
   "execution_count": 17,
   "metadata": {},
   "outputs": [
    {
     "data": {
      "text/plain": [
       "5992"
      ]
     },
     "execution_count": 17,
     "metadata": {},
     "output_type": "execute_result"
    }
   ],
   "source": [
    "# we use the remainder of 20000 as the testing, below is the misclassification\n",
    "predict(w_history[-1])"
   ]
  },
  {
   "cell_type": "markdown",
   "metadata": {},
   "source": [
    "Conclusion: \n",
    "I write this version, measuring horizontal prewitt and vertical prewitt to do two kinds of edge detections and combine those two.\n",
    "And t the feature transformation is different from that in textbook because I have scanned the whole pixels by\n",
    "the kernel, so the processed feature vector has the lenght of 26*26.\n",
    "Also I write minibatch by myself, afraid of that it may be not perfect compared with the labrary provided from github.\n",
    "In this method, I find the original image could have nearly the same accuracy as the processed one, which has been \n",
    "shown by my final visualization."
   ]
  }
 ],
 "metadata": {
  "kernelspec": {
   "display_name": "Python 3",
   "language": "python",
   "name": "python3"
  },
  "language_info": {
   "codemirror_mode": {
    "name": "ipython",
    "version": 3
   },
   "file_extension": ".py",
   "mimetype": "text/x-python",
   "name": "python",
   "nbconvert_exporter": "python",
   "pygments_lexer": "ipython3",
   "version": "3.7.4"
  }
 },
 "nbformat": 4,
 "nbformat_minor": 2
}
