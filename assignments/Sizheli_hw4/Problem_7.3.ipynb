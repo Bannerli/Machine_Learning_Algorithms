{
 "cells": [
  {
   "cell_type": "code",
   "execution_count": 574,
   "metadata": {},
   "outputs": [],
   "source": [
    "# import autograd functionally\n",
    "import autograd.numpy as np\n",
    "from autograd.misc.flatten import flatten_func\n",
    "from autograd import grad as compute_grad\n",
    "\n",
    "# import various other libraries\n",
    "import matplotlib.pyplot as plt\n",
    "\n",
    "# this is needed to compensate for %matplotl+ib notebook's tendancy lotted inline\n",
    "from matplotlib import rcParams\n",
    "rcParams[\"figure.autolayout\"] = True\n",
    "import os"
   ]
  },
  {
   "cell_type": "code",
   "execution_count": 575,
   "metadata": {},
   "outputs": [
    {
     "data": {
      "text/plain": [
       "['.ipynb_checkpoints', 'Problem_7.2.ipynb', '4class_data.csv']"
      ]
     },
     "execution_count": 575,
     "metadata": {},
     "output_type": "execute_result"
    }
   ],
   "source": [
    "os.listdir()"
   ]
  },
  {
   "cell_type": "code",
   "execution_count": 576,
   "metadata": {},
   "outputs": [],
   "source": [
    "# gradient descent function\n",
    "def gradient_descent(g, w ,alpha, max_its, beta):\n",
    "    # flatten the input function, create gradient based on flat function\n",
    "    g_flat, unflatten, w = flatten_func(g, w)\n",
    "    grad = compute_grad(g_flat)\n",
    "\n",
    "    # record history\n",
    "    w_hist = []\n",
    "    # push the first w\n",
    "    w_hist.append(unflatten(w))\n",
    "\n",
    "    # start gradient descent loop\n",
    "    z = np.zeros(np.shape(w))  # momentum term\n",
    "\n",
    "    # over the line\n",
    "    for k in range(max_its):\n",
    "        # plug in value into func and derivative\n",
    "        grad_eval = grad(w)\n",
    "        grad_eval.shape = np.shape(w)\n",
    "\n",
    "        # take descent step with momentum\n",
    "        z = beta * z + grad_eval\n",
    "        w = w -alpha * z\n",
    "\n",
    "        # record weight update\n",
    "        w_hist.append(unflatten(w))\n",
    "\n",
    "    return w_hist\n",
    "\n",
    "def plotting(cost_hist, ylabelName, label):\n",
    "    figure, axes = plt.subplots(1,1, figsize = (6,5))\n",
    "    axes.plot(range(len(cost_hist)),cost_hist, label = label, linestyle = \"solid\")\n",
    "    axes.set_xlabel(\"iterations\")\n",
    "    axes.set_ylabel(ylabelName)\n",
    "    axes.legend()\n",
    "    plt.show()"
   ]
  },
  {
   "cell_type": "code",
   "execution_count": 577,
   "metadata": {},
   "outputs": [
    {
     "name": "stdout",
     "output_type": "stream",
     "text": [
      "[0. 0. 0. 0. 0. 0. 0. 0. 0. 0. 1. 1. 1. 1. 1. 1. 1. 1. 1. 1. 2. 2. 2. 2.\n",
      " 2. 2. 2. 2. 2. 2. 3. 3. 3. 3. 3. 3. 3. 3. 3. 3.]\n"
     ]
    }
   ],
   "source": [
    "csvname = '4class_data.csv'\n",
    "data = np.loadtxt(csvname, delimiter = ',')\n",
    "data = data.T\n",
    "x = data[:,:-1]\n",
    "y = data[:,-1:]\n",
    "y_true = data[:,-1]\n",
    "print(y_true)"
   ]
  },
  {
   "cell_type": "code",
   "execution_count": 578,
   "metadata": {},
   "outputs": [
    {
     "name": "stdout",
     "output_type": "stream",
     "text": [
      "(40, 2)\n",
      "(40, 1)\n"
     ]
    }
   ],
   "source": [
    "print(x.shape)\n",
    "print(y.shape)"
   ]
  },
  {
   "cell_type": "code",
   "execution_count": 579,
   "metadata": {},
   "outputs": [],
   "source": [
    "# now we should normalize the weights before\n",
    "def normalization(w):\n",
    "    slice = w[1:]\n",
    "    norm = np.sum(np.power(slice,2),axis = 0)**0.5\n",
    "    result = w/norm\n",
    "    return result\n",
    "\n",
    "def model(x,w):\n",
    "    w = normalization(w)\n",
    "    result = w[0] + np.dot(x, w[1:])\n",
    "    return result\n",
    "    \n",
    "def multi_class_softmax(w):\n",
    "    all_evals = model(x,w)\n",
    "    # compute the exp result\n",
    "    init_result = np.exp(all_evals)\n",
    "    total = np.sum(init_result, axis = 1)\n",
    "    # select the corresponding column\n",
    "    b = init_result[np.arange(np.size(y)),y.astype(int).flatten()]\n",
    "    cost = -1*np.sum(np.log(b/total))\n",
    "    cost = cost + 10**-5*np.linalg.norm(w[1:],'fro')**2\n",
    "    return cost/float(np.size(y))\n",
    "\n",
    "def predict(weight):\n",
    "    index = np.argmax(model(x, weight), axis = 1)\n",
    "    correct_num = np.sum(np.array(index == y_true, dtype = int))\n",
    "    wrong_num = np.size(y_true) - correct_num\n",
    "    accuracy = correct_num/np.size(y_true)\n",
    "    return wrong_num, accuracy"
   ]
  },
  {
   "cell_type": "code",
   "execution_count": 580,
   "metadata": {},
   "outputs": [],
   "source": [
    "# initialize parameters\n",
    "alpha = 0.05\n",
    "max_its = 1000\n",
    "gamma = 0\n",
    "w_init = np.random.randn(x.shape[1]+1, np.max(y).astype(int)+1)"
   ]
  },
  {
   "cell_type": "code",
   "execution_count": 581,
   "metadata": {},
   "outputs": [],
   "source": [
    "# run gradient descent, create cost function history\n",
    "weight_history = gradient_descent(multi_class_softmax, w_init, alpha, max_its,beta = gamma)\n",
    "# use MSE to validate the regression quality\n",
    "cost_history = [multi_class_softmax(v) for v in weight_history]\n",
    "best_w = weight_history[-1]"
   ]
  },
  {
   "cell_type": "code",
   "execution_count": 582,
   "metadata": {},
   "outputs": [
    {
     "data": {
      "image/png": "[encoded data removed]",
      "text/plain": [
       "<Figure size 432x360 with 1 Axes>"
      ]
     },
     "metadata": {
      "needs_background": "light"
     },
     "output_type": "display_data"
    }
   ],
   "source": [
    "plotting(cost_history,\"softmax\",\"multi_class\")"
   ]
  },
  {
   "cell_type": "code",
   "execution_count": 583,
   "metadata": {},
   "outputs": [
    {
     "data": {
      "text/plain": [
       "(9, 0.775)"
      ]
     },
     "execution_count": 583,
     "metadata": {},
     "output_type": "execute_result"
    }
   ],
   "source": [
    "predict(best_w)"
   ]
  },
  {
   "cell_type": "markdown",
   "metadata": {},
   "source": [
    "the misclassification number is 9, and the accuracy is 0.775"
   ]
  }
 ],
 "metadata": {
  "kernelspec": {
   "display_name": "Python 3",
   "language": "python",
   "name": "python3"
  },
  "language_info": {
   "codemirror_mode": {
    "name": "ipython",
    "version": 3
   },
   "file_extension": ".py",
   "mimetype": "text/x-python",
   "name": "python",
   "nbconvert_exporter": "python",
   "pygments_lexer": "ipython3",
   "version": "3.7.4"
  }
 },
 "nbformat": 4,
 "nbformat_minor": 2
}
