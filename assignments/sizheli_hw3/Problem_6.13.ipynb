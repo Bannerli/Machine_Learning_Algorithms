{
 "cells": [
  {
   "cell_type": "code",
   "execution_count": 164,
   "metadata": {},
   "outputs": [],
   "source": [
    "# import autograd functionally\n",
    "import autograd.numpy as np\n",
    "from autograd.misc.flatten import flatten_func\n",
    "from autograd import grad as compute_grad\n",
    "\n",
    "# import various other libraries\n",
    "import copy\n",
    "import matplotlib.pyplot as plt\n",
    "\n",
    "# this is needed to compensate for %matplotl+ib notebook's tendancy lotted inline\n",
    "from matplotlib import rcParams\n",
    "rcParams[\"figure.autolayout\"] = True"
   ]
  },
  {
   "cell_type": "code",
   "execution_count": 165,
   "metadata": {},
   "outputs": [],
   "source": [
    "# gradient descent function\n",
    "def gradient_descent(g, w ,alpha, max_its, beta):\n",
    "    # flatten the input function, create gradient based on flat function\n",
    "    g_flat, unflatten, w = flatten_func(g, w)\n",
    "    grad = compute_grad(g_flat)\n",
    "\n",
    "    # record history\n",
    "    w_hist = []\n",
    "    # push the first w\n",
    "    w_hist.append(unflatten(w))\n",
    "\n",
    "    # start gradient descent loop\n",
    "    z = np.zeros(np.shape(w))  # momentum term\n",
    "\n",
    "    # over the line\n",
    "    for k in range(max_its):\n",
    "        # plug in value into func and derivative\n",
    "        grad_eval = grad(w)\n",
    "        grad_eval.shape = np.shape(w)\n",
    "\n",
    "        # take descent step with momentum\n",
    "        z = beta * z + grad_eval\n",
    "        w = w -alpha * z\n",
    "\n",
    "        # record weight update\n",
    "        w_hist.append(unflatten(w))\n",
    "\n",
    "    return w_hist\n",
    "\n",
    "def model(x ,w):\n",
    "    # feature transformations\n",
    "    f = w[0] + np.dot(x, w[1:])\n",
    "    return f\n",
    "\n",
    "def plotting(cost_hist, ylabelName, label):\n",
    "    figure, axes = plt.subplots(1,1, figsize = (6,5))\n",
    "    axes.plot(range(len(cost_hist)),cost_hist, label = label, linestyle = \"solid\")\n",
    "    axes.set_xlabel(\"iterations\")\n",
    "    axes.set_ylabel(ylabelName)\n",
    "    axes.legend()\n",
    "    plt.show()"
   ]
  },
  {
   "cell_type": "code",
   "execution_count": 166,
   "metadata": {},
   "outputs": [],
   "source": [
    "csvname = \"breast_cancer_data.csv\"\n",
    "data = np.loadtxt(csvname, delimiter = ',')\n",
    "data = data.T\n",
    "x = data[:,:-1]\n",
    "y = data[:,-1:]"
   ]
  },
  {
   "cell_type": "code",
   "execution_count": 167,
   "metadata": {},
   "outputs": [],
   "source": [
    "def sign(x):\n",
    "    a_1 = np.array(x>=0, dtype = np.int)\n",
    "    a_2 = np.array(x<0, dtype = np.int)\n",
    "    return a_1*1 + a_2*(-1)\n",
    "\n",
    "def softmax_cost(w):\n",
    "    cost = np.sum(np.log(1+np.exp(-y*model(x,w))))\n",
    "    return cost/float(np.size(y))\n",
    "\n",
    "def perceptron_cost(w):\n",
    "    cost = np.sum(np.maximum(0,-y*model(x,w)))\n",
    "    return cost/float(np.size(y))"
   ]
  },
  {
   "cell_type": "code",
   "execution_count": 168,
   "metadata": {},
   "outputs": [],
   "source": [
    "# initialize parameters\n",
    "alpha = 0.06\n",
    "max_its = 1000\n",
    "beta = 0\n",
    "w_init = np.random.randn(x.shape[1]+1, 1)"
   ]
  },
  {
   "cell_type": "code",
   "execution_count": 169,
   "metadata": {},
   "outputs": [],
   "source": [
    "# run gradient descent, create cost function history\n",
    "weight_history = gradient_descent(softmax_cost, w_init, alpha, max_its,beta)\n",
    "# use MSE to validate the regression quality\n",
    "cost_history = [softmax_cost(v) for v in weight_history]"
   ]
  },
  {
   "cell_type": "code",
   "execution_count": 170,
   "metadata": {},
   "outputs": [
    {
     "data": {
      "image/png": "[encoded data removed]",
      "text/plain": [
       "<Figure size 432x360 with 1 Axes>"
      ]
     },
     "metadata": {
      "needs_background": "light"
     },
     "output_type": "display_data"
    }
   ],
   "source": [
    "plotting(cost_history, \"softmax_cost\", \"breast_cancer\")"
   ]
  },
  {
   "cell_type": "code",
   "execution_count": 171,
   "metadata": {},
   "outputs": [],
   "source": [
    "best_w = weight_history[-1]"
   ]
  },
  {
   "cell_type": "code",
   "execution_count": 175,
   "metadata": {},
   "outputs": [],
   "source": [
    "def correct_classification(x,y):\n",
    "    result = np.array(x == y, dtype = int)\n",
    "    number = np.sum(result)\n",
    "    return number"
   ]
  },
  {
   "cell_type": "code",
   "execution_count": 176,
   "metadata": {},
   "outputs": [
    {
     "data": {
      "text/plain": [
       "674"
      ]
     },
     "execution_count": 176,
     "metadata": {},
     "output_type": "execute_result"
    }
   ],
   "source": [
    "correct_classification(sign(model(x,best_w)),y)"
   ]
  },
  {
   "cell_type": "markdown",
   "metadata": {},
   "source": [
    "When we use the softmax cost, the misclassification number is : 699-674 = 25"
   ]
  },
  {
   "cell_type": "code",
   "execution_count": 177,
   "metadata": {},
   "outputs": [],
   "source": [
    "# run gradient descent, create cost function history\n",
    "weight_history = gradient_descent(perceptron_cost, w_init, alpha, max_its,beta)\n",
    "# use MSE to validate the regression quality\n",
    "cost_history = [perceptron_cost(v) for v in weight_history]"
   ]
  },
  {
   "cell_type": "code",
   "execution_count": 178,
   "metadata": {},
   "outputs": [
    {
     "data": {
      "image/png": "[encoded data removed]",
      "text/plain": [
       "<Figure size 432x360 with 1 Axes>"
      ]
     },
     "metadata": {
      "needs_background": "light"
     },
     "output_type": "display_data"
    }
   ],
   "source": [
    "plotting(cost_history, \"perceptron_cost\", \"breast_cancer\")"
   ]
  },
  {
   "cell_type": "code",
   "execution_count": 179,
   "metadata": {},
   "outputs": [],
   "source": [
    "best_w = weight_history[-1]"
   ]
  },
  {
   "cell_type": "code",
   "execution_count": 180,
   "metadata": {},
   "outputs": [
    {
     "data": {
      "text/plain": [
       "671"
      ]
     },
     "execution_count": 180,
     "metadata": {},
     "output_type": "execute_result"
    }
   ],
   "source": [
    "correct_classification(sign(model(x,best_w)),y)"
   ]
  },
  {
   "cell_type": "markdown",
   "metadata": {},
   "source": [
    "So the misclassification number is : 699-671 = 28"
   ]
  },
  {
   "cell_type": "markdown",
   "metadata": {},
   "source": [
    "In this problem, we measure two methods-softmax and perceptron.\n",
    "In the softmax cost, the misclassification number is 25;\n",
    "In the perceptron cost, the misclassification number is 28;\n",
    "Those two may be a little larger than 20, but close to it."
   ]
  }
 ],
 "metadata": {
  "kernelspec": {
   "display_name": "Python 3",
   "language": "python",
   "name": "python3"
  },
  "language_info": {
   "codemirror_mode": {
    "name": "ipython",
    "version": 3
   },
   "file_extension": ".py",
   "mimetype": "text/x-python",
   "name": "python",
   "nbconvert_exporter": "python",
   "pygments_lexer": "ipython3",
   "version": "3.7.4"
  }
 },
 "nbformat": 4,
 "nbformat_minor": 2
}
